import matplotlib.pyplot as plt
import numpy as np


x = np.linspace(0, 10, 100)
y = x ** 2


plt.plot(x, y)

plt.title('Plot of $y = x^2$')
plt.xlabel('x-axis')
plt.ylabel('y-axis')
plt.grid(True)


plt.show()
